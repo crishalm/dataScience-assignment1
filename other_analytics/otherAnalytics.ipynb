{
 "cells": [
  {
   "cell_type": "markdown",
   "metadata": {},
   "source": [
    "# Imports\n"
   ]
  },
  {
   "cell_type": "code",
   "execution_count": 2,
   "metadata": {},
   "outputs": [],
   "source": [
    "import math\n",
    "import os\n",
    "\n",
    "import numpy as np\n",
    "import pandas as pd\n",
    "\n",
    "import matplotlib.mlab as mlab\n",
    "import matplotlib.pyplot as plt\n",
    "%matplotlib inline\n",
    "\n",
    "import scipy.stats as stat"
   ]
  },
  {
   "cell_type": "markdown",
   "metadata": {},
   "source": [
    "# Load data and view"
   ]
  },
  {
   "cell_type": "code",
   "execution_count": 35,
   "metadata": {},
   "outputs": [
    {
     "name": "stdout",
     "output_type": "stream",
     "text": [
      "   Seq No  intnum  persnum  age  educatn  earnings  hours  kids   married\n",
      "0       1       4        4   39     12.0     77250   2940     2   married\n",
      "1       2       4        6   35     12.0     12000   2040     2  divorced\n",
      "2       3       4        7   33     12.0      8000    693     1   married\n",
      "3       4       4      173   39     10.0     15000   1904     2   married\n",
      "4       5       5        2   47      9.0      6500   1683     5   married\n",
      "5       6       6        4   44     12.0      6500   2024     2   married\n",
      "6       7       6      172   38     16.0      7000   1144     3   married\n",
      "7       8       7        4   38      9.0      5000   2080     4  divorced\n",
      "8       9       7      170   39     12.0     21000   2575     3   married\n",
      "9      10       7      171   37     11.0         0      0     5   married\n"
     ]
    }
   ],
   "source": [
    "orig = pd.read_csv(\"PSID.csv\")\n",
    "print(orig[:10])"
   ]
  },
  {
   "cell_type": "markdown",
   "metadata": {},
   "source": [
    "# Understand data (Size, Dimension, Data Types) and describe"
   ]
  },
  {
   "cell_type": "code",
   "execution_count": 20,
   "metadata": {},
   "outputs": [
    {
     "name": "stdout",
     "output_type": "stream",
     "text": [
      "(4856, 9)\n",
      "2\n"
     ]
    }
   ],
   "source": [
    "# Size of the Data set (rows, columns)\n",
    "print(orig.shape)\n",
    "# Dimension of the Data set\n",
    "print(orig.ndim)"
   ]
  },
  {
   "cell_type": "code",
   "execution_count": 31,
   "metadata": {},
   "outputs": [
    {
     "data": {
      "text/plain": [
       "Seq No        int64\n",
       "intnum        int64\n",
       "persnum       int64\n",
       "age           int64\n",
       "educatn     float64\n",
       "earnings      int64\n",
       "hours         int64\n",
       "kids          int64\n",
       "married      object\n",
       "dtype: object"
      ]
     },
     "execution_count": 31,
     "metadata": {},
     "output_type": "execute_result"
    }
   ],
   "source": [
    "# Data types of data in each column\n",
    "orig.dtypes"
   ]
  },
  {
   "cell_type": "code",
   "execution_count": 30,
   "metadata": {},
   "outputs": [
    {
     "data": {
      "text/html": [
       "<div>\n",
       "<style scoped>\n",
       "    .dataframe tbody tr th:only-of-type {\n",
       "        vertical-align: middle;\n",
       "    }\n",
       "\n",
       "    .dataframe tbody tr th {\n",
       "        vertical-align: top;\n",
       "    }\n",
       "\n",
       "    .dataframe thead th {\n",
       "        text-align: right;\n",
       "    }\n",
       "</style>\n",
       "<table border=\"1\" class=\"dataframe\">\n",
       "  <thead>\n",
       "    <tr style=\"text-align: right;\">\n",
       "      <th></th>\n",
       "      <th>Seq No</th>\n",
       "      <th>intnum</th>\n",
       "      <th>persnum</th>\n",
       "      <th>age</th>\n",
       "      <th>educatn</th>\n",
       "      <th>earnings</th>\n",
       "      <th>hours</th>\n",
       "      <th>kids</th>\n",
       "    </tr>\n",
       "  </thead>\n",
       "  <tbody>\n",
       "    <tr>\n",
       "      <th>count</th>\n",
       "      <td>4856.000000</td>\n",
       "      <td>4856.000000</td>\n",
       "      <td>4856.000000</td>\n",
       "      <td>4856.000000</td>\n",
       "      <td>4855.000000</td>\n",
       "      <td>4856.000000</td>\n",
       "      <td>4856.000000</td>\n",
       "      <td>4856.000000</td>\n",
       "    </tr>\n",
       "    <tr>\n",
       "      <th>mean</th>\n",
       "      <td>2428.500000</td>\n",
       "      <td>4598.101318</td>\n",
       "      <td>59.213550</td>\n",
       "      <td>38.462932</td>\n",
       "      <td>16.377137</td>\n",
       "      <td>14244.506178</td>\n",
       "      <td>1235.334843</td>\n",
       "      <td>4.481260</td>\n",
       "    </tr>\n",
       "    <tr>\n",
       "      <th>std</th>\n",
       "      <td>1401.950784</td>\n",
       "      <td>2761.971174</td>\n",
       "      <td>79.748556</td>\n",
       "      <td>5.595116</td>\n",
       "      <td>18.449502</td>\n",
       "      <td>15985.447449</td>\n",
       "      <td>947.175837</td>\n",
       "      <td>14.887856</td>\n",
       "    </tr>\n",
       "    <tr>\n",
       "      <th>min</th>\n",
       "      <td>1.000000</td>\n",
       "      <td>4.000000</td>\n",
       "      <td>1.000000</td>\n",
       "      <td>30.000000</td>\n",
       "      <td>0.000000</td>\n",
       "      <td>0.000000</td>\n",
       "      <td>0.000000</td>\n",
       "      <td>0.000000</td>\n",
       "    </tr>\n",
       "    <tr>\n",
       "      <th>25%</th>\n",
       "      <td>1214.750000</td>\n",
       "      <td>1905.000000</td>\n",
       "      <td>2.000000</td>\n",
       "      <td>34.000000</td>\n",
       "      <td>12.000000</td>\n",
       "      <td>85.000000</td>\n",
       "      <td>32.000000</td>\n",
       "      <td>1.000000</td>\n",
       "    </tr>\n",
       "    <tr>\n",
       "      <th>50%</th>\n",
       "      <td>2428.500000</td>\n",
       "      <td>5464.000000</td>\n",
       "      <td>4.000000</td>\n",
       "      <td>38.000000</td>\n",
       "      <td>12.000000</td>\n",
       "      <td>11000.000000</td>\n",
       "      <td>1517.000000</td>\n",
       "      <td>2.000000</td>\n",
       "    </tr>\n",
       "    <tr>\n",
       "      <th>75%</th>\n",
       "      <td>3642.250000</td>\n",
       "      <td>6655.000000</td>\n",
       "      <td>170.000000</td>\n",
       "      <td>43.000000</td>\n",
       "      <td>14.000000</td>\n",
       "      <td>22000.000000</td>\n",
       "      <td>2000.000000</td>\n",
       "      <td>3.000000</td>\n",
       "    </tr>\n",
       "    <tr>\n",
       "      <th>max</th>\n",
       "      <td>4856.000000</td>\n",
       "      <td>9306.000000</td>\n",
       "      <td>205.000000</td>\n",
       "      <td>50.000000</td>\n",
       "      <td>99.000000</td>\n",
       "      <td>240000.000000</td>\n",
       "      <td>5160.000000</td>\n",
       "      <td>99.000000</td>\n",
       "    </tr>\n",
       "  </tbody>\n",
       "</table>\n",
       "</div>"
      ],
      "text/plain": [
       "            Seq No       intnum      persnum          age      educatn  \\\n",
       "count  4856.000000  4856.000000  4856.000000  4856.000000  4855.000000   \n",
       "mean   2428.500000  4598.101318    59.213550    38.462932    16.377137   \n",
       "std    1401.950784  2761.971174    79.748556     5.595116    18.449502   \n",
       "min       1.000000     4.000000     1.000000    30.000000     0.000000   \n",
       "25%    1214.750000  1905.000000     2.000000    34.000000    12.000000   \n",
       "50%    2428.500000  5464.000000     4.000000    38.000000    12.000000   \n",
       "75%    3642.250000  6655.000000   170.000000    43.000000    14.000000   \n",
       "max    4856.000000  9306.000000   205.000000    50.000000    99.000000   \n",
       "\n",
       "            earnings        hours         kids  \n",
       "count    4856.000000  4856.000000  4856.000000  \n",
       "mean    14244.506178  1235.334843     4.481260  \n",
       "std     15985.447449   947.175837    14.887856  \n",
       "min         0.000000     0.000000     0.000000  \n",
       "25%        85.000000    32.000000     1.000000  \n",
       "50%     11000.000000  1517.000000     2.000000  \n",
       "75%     22000.000000  2000.000000     3.000000  \n",
       "max    240000.000000  5160.000000    99.000000  "
      ]
     },
     "execution_count": 30,
     "metadata": {},
     "output_type": "execute_result"
    }
   ],
   "source": [
    "# Describe the data by getting basic statistical information\n",
    "orig.describe()"
   ]
  },
  {
   "cell_type": "markdown",
   "metadata": {},
   "source": [
    "# Hypothesis Test 01\n",
    "\n",
    "H0 = Average earnings per family is greater than 14000 if the education level is greater than 12\n",
    "\n",
    "Ha = Average earnings per family is less than 14000 if the education level is less than 12"
   ]
  },
  {
   "cell_type": "code",
   "execution_count": 34,
   "metadata": {},
   "outputs": [
    {
     "data": {
      "text/html": [
       "<div>\n",
       "<style scoped>\n",
       "    .dataframe tbody tr th:only-of-type {\n",
       "        vertical-align: middle;\n",
       "    }\n",
       "\n",
       "    .dataframe tbody tr th {\n",
       "        vertical-align: top;\n",
       "    }\n",
       "\n",
       "    .dataframe thead th {\n",
       "        text-align: right;\n",
       "    }\n",
       "</style>\n",
       "<table border=\"1\" class=\"dataframe\">\n",
       "  <thead>\n",
       "    <tr style=\"text-align: right;\">\n",
       "      <th></th>\n",
       "      <th>Seq No</th>\n",
       "      <th>intnum</th>\n",
       "      <th>persnum</th>\n",
       "      <th>age</th>\n",
       "      <th>educatn</th>\n",
       "      <th>earnings</th>\n",
       "      <th>hours</th>\n",
       "      <th>kids</th>\n",
       "    </tr>\n",
       "  </thead>\n",
       "  <tbody>\n",
       "    <tr>\n",
       "      <th>Seq No</th>\n",
       "      <td>1.000000</td>\n",
       "      <td>1.000000</td>\n",
       "      <td>-0.384426</td>\n",
       "      <td>-0.016184</td>\n",
       "      <td>-0.266457</td>\n",
       "      <td>-0.197602</td>\n",
       "      <td>-0.118188</td>\n",
       "      <td>0.143375</td>\n",
       "    </tr>\n",
       "    <tr>\n",
       "      <th>intnum</th>\n",
       "      <td>1.000000</td>\n",
       "      <td>1.000000</td>\n",
       "      <td>-0.384657</td>\n",
       "      <td>-0.016090</td>\n",
       "      <td>-0.266470</td>\n",
       "      <td>-0.197587</td>\n",
       "      <td>-0.118169</td>\n",
       "      <td>0.143387</td>\n",
       "    </tr>\n",
       "    <tr>\n",
       "      <th>persnum</th>\n",
       "      <td>-0.384426</td>\n",
       "      <td>-0.384657</td>\n",
       "      <td>1.000000</td>\n",
       "      <td>-0.257953</td>\n",
       "      <td>0.161101</td>\n",
       "      <td>0.060876</td>\n",
       "      <td>0.042910</td>\n",
       "      <td>-0.112442</td>\n",
       "    </tr>\n",
       "    <tr>\n",
       "      <th>age</th>\n",
       "      <td>-0.016184</td>\n",
       "      <td>-0.016090</td>\n",
       "      <td>-0.257953</td>\n",
       "      <td>1.000000</td>\n",
       "      <td>-0.026466</td>\n",
       "      <td>0.076098</td>\n",
       "      <td>0.046605</td>\n",
       "      <td>0.155847</td>\n",
       "    </tr>\n",
       "    <tr>\n",
       "      <th>educatn</th>\n",
       "      <td>-0.266457</td>\n",
       "      <td>-0.266470</td>\n",
       "      <td>0.161101</td>\n",
       "      <td>-0.026466</td>\n",
       "      <td>1.000000</td>\n",
       "      <td>0.355134</td>\n",
       "      <td>0.174441</td>\n",
       "      <td>-0.265205</td>\n",
       "    </tr>\n",
       "    <tr>\n",
       "      <th>earnings</th>\n",
       "      <td>-0.197602</td>\n",
       "      <td>-0.197587</td>\n",
       "      <td>0.060876</td>\n",
       "      <td>0.076098</td>\n",
       "      <td>0.355134</td>\n",
       "      <td>1.000000</td>\n",
       "      <td>0.793336</td>\n",
       "      <td>-0.260386</td>\n",
       "    </tr>\n",
       "    <tr>\n",
       "      <th>hours</th>\n",
       "      <td>-0.118188</td>\n",
       "      <td>-0.118169</td>\n",
       "      <td>0.042910</td>\n",
       "      <td>0.046605</td>\n",
       "      <td>0.174441</td>\n",
       "      <td>0.793336</td>\n",
       "      <td>1.000000</td>\n",
       "      <td>-0.188060</td>\n",
       "    </tr>\n",
       "    <tr>\n",
       "      <th>kids</th>\n",
       "      <td>0.143375</td>\n",
       "      <td>0.143387</td>\n",
       "      <td>-0.112442</td>\n",
       "      <td>0.155847</td>\n",
       "      <td>-0.265205</td>\n",
       "      <td>-0.260386</td>\n",
       "      <td>-0.188060</td>\n",
       "      <td>1.000000</td>\n",
       "    </tr>\n",
       "  </tbody>\n",
       "</table>\n",
       "</div>"
      ],
      "text/plain": [
       "            Seq No    intnum   persnum       age   educatn  earnings  \\\n",
       "Seq No    1.000000  1.000000 -0.384426 -0.016184 -0.266457 -0.197602   \n",
       "intnum    1.000000  1.000000 -0.384657 -0.016090 -0.266470 -0.197587   \n",
       "persnum  -0.384426 -0.384657  1.000000 -0.257953  0.161101  0.060876   \n",
       "age      -0.016184 -0.016090 -0.257953  1.000000 -0.026466  0.076098   \n",
       "educatn  -0.266457 -0.266470  0.161101 -0.026466  1.000000  0.355134   \n",
       "earnings -0.197602 -0.197587  0.060876  0.076098  0.355134  1.000000   \n",
       "hours    -0.118188 -0.118169  0.042910  0.046605  0.174441  0.793336   \n",
       "kids      0.143375  0.143387 -0.112442  0.155847 -0.265205 -0.260386   \n",
       "\n",
       "             hours      kids  \n",
       "Seq No   -0.118188  0.143375  \n",
       "intnum   -0.118169  0.143387  \n",
       "persnum   0.042910 -0.112442  \n",
       "age       0.046605  0.155847  \n",
       "educatn   0.174441 -0.265205  \n",
       "earnings  0.793336 -0.260386  \n",
       "hours     1.000000 -0.188060  \n",
       "kids     -0.188060  1.000000  "
      ]
     },
     "execution_count": 34,
     "metadata": {},
     "output_type": "execute_result"
    }
   ],
   "source": [
    "# understand the correlation using spearman correlation coefficiant\n",
    "orig.corr(method=\"spearman\")"
   ]
  },
  {
   "cell_type": "code",
   "execution_count": 36,
   "metadata": {},
   "outputs": [
    {
     "name": "stdout",
     "output_type": "stream",
     "text": [
      "High earning count = 2059\n",
      "Low earning count = 2729\n"
     ]
    }
   ],
   "source": [
    "# we can see the highest correlation value is between earnings and hours, \n",
    "# but our hyphothesis between earnings and education that has the the second highest value.\n",
    "hypoValue = 14000\n",
    "\n",
    "highEarning = orig[orig.earnings > hypoValue].educatn\n",
    "print(\"High earning count =\", highEarning.count())\n",
    "\n",
    "lowEarning = orig[orig.earnings < hypoValue].educatn\n",
    "print(\"Low earning count =\", lowEarning.count())\n"
   ]
  },
  {
   "cell_type": "code",
   "execution_count": 38,
   "metadata": {},
   "outputs": [
    {
     "data": {
      "text/plain": [
       "<matplotlib.legend.Legend at 0x1ed3cb9b550>"
      ]
     },
     "execution_count": 38,
     "metadata": {},
     "output_type": "execute_result"
    },
    {
     "data": {
      "image/png": "[encoded data removed]",
      "text/plain": [
       "<Figure size 432x288 with 1 Axes>"
      ]
     },
     "metadata": {
      "needs_background": "light"
     },
     "output_type": "display_data"
    }
   ],
   "source": [
    "# Total Population\n",
    "sortPopulation = orig['educatn'].sort_values();\n",
    "eduEarnLine = stat.norm.pdf(sortPopulation, sortPopulation.mean(), sortPopulation.std())\n",
    "plt.plot(sortPopulation, eduEarnLine , label='All earnings')\n",
    "\n",
    "# Sampling\n",
    "sampleSize = 500\n",
    "eduLevelWithHighEarning = orig[orig.earnings> hypoValue].educatn.sample(sampleSize).sort_values()\n",
    "eduLevelWithLowEarning = orig[orig.earnings< hypoValue].educatn.sample(sampleSize).sort_values()\n",
    "\n",
    "eduEarnLine1 = stat.norm.pdf(eduLevelWithHighEarning, eduLevelWithHighEarning.mean(), eduLevelWithHighEarning.std())\n",
    "plt.plot(eduLevelWithHighEarning, eduEarnLine1, label='High earnings')\n",
    "\n",
    "eduEarnLine2 = stat.norm.pdf(eduLevelWithLowEarning, eduLevelWithLowEarning.mean(), eduLevelWithLowEarning.std())\n",
    "plt.plot(eduLevelWithLowEarning, eduEarnLine2, label='Low earnings')\n",
    "\n",
    "plt.title('Distribution of education level')\n",
    "plt.xlabel('Education Level')\n",
    "\n",
    "# pdf stands for Probability Density Function\n",
    "plt.ylabel('pdf')\n",
    "plt.legend()"
   ]
  },
  {
   "cell_type": "code",
   "execution_count": 1,
   "metadata": {},
   "outputs": [],
   "source": [
    "# we have to remove outliers and generate the plot again"
   ]
  },
  {
   "cell_type": "code",
   "execution_count": null,
   "metadata": {},
   "outputs": [],
   "source": []
  }
 ],
 "metadata": {
  "kernelspec": {
   "display_name": "Python 3",
   "language": "python",
   "name": "python3"
  },
  "language_info": {
   "codemirror_mode": {
    "name": "ipython",
    "version": 3
   },
   "file_extension": ".py",
   "mimetype": "text/x-python",
   "name": "python",
   "nbconvert_exporter": "python",
   "pygments_lexer": "ipython3",
   "version": "3.7.1"
  }
 },
 "nbformat": 4,
 "nbformat_minor": 2
}
